{
 "cells": [
  {
   "cell_type": "code",
   "execution_count": 28,
   "metadata": {
    "scrolled": false
   },
   "outputs": [
    {
     "name": "stdout",
     "output_type": "stream",
     "text": [
      "No of toilets:  215\n",
      "No. of toilets:  29\n",
      "No. of toilets:  48\n",
      "No. of toilets:  65\n",
      "No. of toilets:  108\n",
      "No. of toilets:  136\n",
      "No. of toilets:  152\n",
      "No. of toilets:  194\n",
      "No. of toilets:  227\n",
      "442\n"
     ]
    }
   ],
   "source": [
    "import folium\n",
    "from folium.plugins import MarkerCluster\n",
    "import requests\n",
    "import json\n",
    "from folium.plugins import HeatMap\n",
    "import matplotlib.pyplot as plt\n",
    " \n",
    " \n",
    "jsonList = ['toilets/2.geojson','toilets/3.geojson', 'toilets/4.geojson', 'toilets/6.geojson', 'toilets/5.geojson', 'toilets/7.geojson', 'toilets/8.geojson', 'toilets/9.geojson']\n",
    " \n",
    "coordinatesList = []\n",
    "\n",
    " \n",
    "def cph():\n",
    "    counter1 = 0\n",
    "    with open('toilets/1.geojson') as data_file: \n",
    "        data = json.load(data_file)\n",
    "    # for each feature in the json file, create a marker\n",
    "    for feature in data[\"features\"]:\n",
    "        counter1 += 1\n",
    "        lat, long = feature[\"properties\"][\"latitude\"], feature[\"properties\"][\"longitude\"]\n",
    "        marker = folium.Marker(location=[lat, long], icon=folium.Icon(color='green', icon='remove-sign'))\n",
    "        marker.add_to(m)\n",
    "    print('No of toilets: ', str(counter1))\n",
    "    \n",
    "def byer():\n",
    "    text = 0\n",
    "    counter2 = 0\n",
    "    for list in jsonList:\n",
    "        with open(list) as data_file:    \n",
    "            data = json.load(data_file)\n",
    "        for feature in data[\"features\"]:\n",
    "            counter2 += 1\n",
    "            lat, long = feature[\"geometry\"][\"coordinates\"][1], feature[\"geometry\"][\"coordinates\"][0]\n",
    "            marker = folium.Marker(location=[lat, long], icon=folium.Icon(color='yellow', icon='remove-sign'))\n",
    "            marker.add_to(m)\n",
    "        print('No. of toilets: ', str(counter2))\n",
    "cph()\n",
    "byer()\n",
    " \n",
    "latitudes = []\n",
    "\n",
    "def lat_cph():\n",
    "    cph_latitudes = []\n",
    "    with open('toilets/1.geojson') as data_file: \n",
    "        data = json.load(data_file)\n",
    "    # for each feature in the json file, create a marker\n",
    "    for feature in data[\"features\"]:\n",
    "        lat= feature[\"properties\"][\"latitude\"]\n",
    "        cph_latitudes.append(lat)\n",
    "    return cph_latitudes\n",
    "\n",
    "def lat_byer():\n",
    "    byer_latitudes = []\n",
    "    for list in jsonList:\n",
    "        with open(list) as data_file:    \n",
    "            data = json.load(data_file)\n",
    "        for feature in data[\"features\"]:\n",
    "            lat = feature[\"geometry\"][\"coordinates\"][1]\n",
    "            byer_latitudes.append(lat)\n",
    "    return byer_latitudes\n",
    "\n",
    "def long_cph():\n",
    "    cph_longitudes = []\n",
    "    with open('toilets/1.geojson') as data_file: \n",
    "        data = json.load(data_file)\n",
    "    # for each feature in the json file, create a marker\n",
    "    for feature in data[\"features\"]:\n",
    "        long = feature[\"properties\"][\"longitude\"]\n",
    "        cph_longitudes.append(long)\n",
    "    return cph_longitudes\n",
    "\n",
    "def long_byer():\n",
    "    byer_longitudes = []\n",
    "    for list in jsonList:\n",
    "        with open(list) as data_file:    \n",
    "            data = json.load(data_file)\n",
    "        for feature in data[\"features\"]:\n",
    "            long = feature[\"geometry\"][\"coordinates\"][0]\n",
    "            byer_longitudes.append(long)\n",
    "    return byer_longitudes\n",
    "\n",
    "\"\"\"The number of toilets is 215 + 227 = 442\"\"\"\n",
    "for i in lat_cph():\n",
    "    latitudes.append(i)\n",
    "for i in lat_byer():\n",
    "    latitudes.append(i)\n",
    "\n",
    "longitudes = []\n",
    "for i in long_cph():\n",
    "    longitudes.append(i)\n",
    "for i in long_byer():\n",
    "    longitudes.append(i)\n",
    "print(len(longitudes))\n",
    "\n",
    "\n",
    "#print(latitudes)\n",
    "#print(lat_byer())\n",
    "#print(len(lat_byer()))\n",
    "#print(lat_cph())\n",
    "#print(len(lat_cph()))\n",
    "# this displays the map in the browser\n"
   ]
  },
  {
   "cell_type": "code",
   "execution_count": 6,
   "metadata": {
    "scrolled": true
   },
   "outputs": [
    {
     "data": {
      "image/png": "[encoded data removed]",
      "text/plain": [
       "<Figure size 800x320 with 1 Axes>"
      ]
     },
     "metadata": {},
     "output_type": "display_data"
    }
   ],
   "source": [
    "from matplotlib.pyplot import figure\n",
    "figure(num=None, figsize=(10, 4), dpi=80, facecolor='w', edgecolor='k')\n",
    "plt.hist(latitudes, bins = 10, rwidth = 0.95, color = 'g')\n",
    "plt.show()"
   ]
  },
  {
   "cell_type": "code",
   "execution_count": 24,
   "metadata": {},
   "outputs": [
    {
     "name": "stdout",
     "output_type": "stream",
     "text": [
      "[4, 4, 3, 3, 2, 6, 7, 8, 7, 7, 6, 6, 3, 1, 2, 6, 2, 2, 2, 2, 4, 3, 3, 3, 1, 1, 3, 2, 5, 4, 4, 3, 1, 2, 5, 4, 2, 3, 1, 2, 3, 3, 3, 3, 2, 4, 5, 3, 2, 4, 2, 3, 1, 2, 1, 3, 3, 2, 2, 2, 5, 3, 2, 2, 2, 3, 2, 2, 3, 2, 1, 3, 3, 3, 3, 3, 3, 3, 2, 2, 2, 4, 2, 2, 2, 2, 2, 3, 3, 5, 3, 1, 6, 2, 3, 3, 5, 1, 3, 2, 4, 4, 5, 4, 3, 1, 2, 3, 1, 1, 1, 4, 2, 4, 1, 3, 3, 2, 3, 3, 4, 2, 3, 2, 5, 4, 5, 2, 2, 1, 3, 3, 2, 1, 1, 2, 3, 3, 6, 5, 4, 2, 6, 6, 6, 5, 5, 2, 2, 4, 3, 3, 1, 2, 2, 3, 1, 1, 1, 4, 3, 6, 2, 5, 7, 4, 3, 3, 4, 4, 2, 4, 4, 8, 7, 5, 3, 8, 3, 2, 3, 3, 3, 3, 2, 2, 2, 2, 1, 1, 5, 6, 2, 4, 1, 1, 3, 4, 1, 1, 2, 2, 4, 7, 3, 3, 4, 2, 5, 4, 3, 1, 4, 5, 5]\n",
      "215\n"
     ]
    }
   ],
   "source": [
    "from math import radians, cos, sin, asin, sqrt\n",
    "import folium\n",
    "import json\n",
    "\n",
    "\n",
    "kmList = []\n",
    "\n",
    "def haversine(lon2, lat2):\n",
    "    \"\"\"\n",
    "    Calculate the great circle distance between two points \n",
    "    on the earth (specified in decimal degrees)\n",
    "    \"\"\"\n",
    "    lat1 = 55.68164938\n",
    "    lon1 = 12.52981061\n",
    "    # convert decimal degrees to radians \n",
    "    lon1, lat1, lon2, lat2 = map(radians, [lon1, lat1, lon2, lat2])\n",
    "    # haversine formula \n",
    "    dlon = lon2 - lon1 \n",
    "    dlat = lat2 - lat1 \n",
    "    a = sin(dlat/2)**2 + cos(lat1) * cos(lat2) * sin(dlon/2)**2\n",
    "    c = 2 * asin(sqrt(a)) \n",
    "    # Radius of earth in kilometers is 6371\n",
    "    km = 6371* c\n",
    "    km = int(km)\n",
    "    kmList.append(km)\n",
    "\n",
    "def cph():\n",
    "    with open('toilets/1.geojson') as data_file:    \n",
    "        data = json.load(data_file)\n",
    "    # for each feature in the json file, create a marker\n",
    "    for feature in data[\"features\"]:\n",
    "        lat, long = feature[\"properties\"][\"latitude\"], feature[\"properties\"][\"longitude\"]\n",
    "        haversine(long, lat)\n",
    "       \n",
    " \n",
    "def byer():\n",
    "    text = 0\n",
    "    for list in jsonList:\n",
    "        with open(list) as data_file:    \n",
    "            data = json.load(data_file)\n",
    "        for feature in data[\"features\"]:\n",
    "            lat, long = feature[\"geometry\"][\"coordinates\"][1], feature[\"geometry\"][\"coordinates\"][0]\n",
    "            haversine(long, lat)\n",
    "\n",
    " \n",
    "           \n",
    "cph()\n",
    "#byer()\n",
    "print(kmList)\n",
    "print(len(kmList))\n"
   ]
  },
  {
   "cell_type": "code",
   "execution_count": 14,
   "metadata": {},
   "outputs": [
    {
     "data": {
      "image/png": "[encoded data removed]",
      "text/plain": [
       "<Figure size 800x480 with 1 Axes>"
      ]
     },
     "metadata": {},
     "output_type": "display_data"
    }
   ],
   "source": [
    "import numpy as np \n",
    "figure(num=None, figsize=(10, 6), dpi=80, facecolor='w', edgecolor='k')\n",
    "plt.hist(kmList, bins = 22, rwidth = 0.95, color = 'y')\n",
    "plt.xlabel('Km')\n",
    "plt.ylabel('No.')\n",
    "plt.xticks(np.arange(min(kmList), max(kmList)+1, 10))\n",
    "plt.show()"
   ]
  },
  {
   "cell_type": "code",
   "execution_count": 26,
   "metadata": {},
   "outputs": [
    {
     "data": {
      "image/png": "[encoded data removed]",
      "text/plain": [
       "<Figure size 800x480 with 1 Axes>"
      ]
     },
     "metadata": {},
     "output_type": "display_data"
    }
   ],
   "source": [
    "import numpy as np \n",
    "figure(num=None, figsize=(10, 6), dpi=80, facecolor='w', edgecolor='k')\n",
    "plt.hist(kmList, bins = 7, rwidth = 0.95, color = 'y')\n",
    "plt.xlabel('Km')\n",
    "plt.ylabel('No.')\n",
    "plt.xticks(np.arange(min(kmList), max(kmList)+1, 1))\n",
    "plt.show()"
   ]
  },
  {
   "cell_type": "code",
   "execution_count": null,
   "metadata": {},
   "outputs": [],
   "source": []
  }
 ],
 "metadata": {
  "kernelspec": {
   "display_name": "Python 3",
   "language": "python",
   "name": "python3"
  },
  "language_info": {
   "codemirror_mode": {
    "name": "ipython",
    "version": 3
   },
   "file_extension": ".py",
   "mimetype": "text/x-python",
   "name": "python",
   "nbconvert_exporter": "python",
   "pygments_lexer": "ipython3",
   "version": "3.6.4"
  }
 },
 "nbformat": 4,
 "nbformat_minor": 2
}
